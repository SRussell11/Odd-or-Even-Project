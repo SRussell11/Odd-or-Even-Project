{
 "cells": [
  {
   "cell_type": "code",
   "execution_count": 10,
   "metadata": {},
   "outputs": [
    {
     "name": "stdout",
     "output_type": "stream",
     "text": [
      "Please enter a number here2\n",
      "This is an even number\n"
     ]
    }
   ],
   "source": [
    "number=int(input(\"Please enter a number here\"))\n",
    "user= number % 2\n",
    "if user > 0:\n",
    "    print(\"This is an odd number\")\n",
    "else:\n",
    "    print(\"This is an even number\")"
   ]
  },
  {
   "cell_type": "code",
   "execution_count": 12,
   "metadata": {},
   "outputs": [
    {
     "name": "stdout",
     "output_type": "stream",
     "text": [
      "Please enter a number here4\n",
      "This is a multiple of 4\n"
     ]
    }
   ],
   "source": [
    "number=int(input(\"Please enter a number here\"))\n",
    "user= number % 2\n",
    "if user > 0:\n",
    "    print(\"This is an odd number\")\n",
    "elif user ==0:\n",
    "    print(\"This is a multiple of 4\")\n",
    "else:\n",
    "    print(\"This is an even number\")\n"
   ]
  },
  {
   "cell_type": "markdown",
   "metadata": {},
   "source": [
    " "
   ]
  }
 ],
 "metadata": {
  "kernelspec": {
   "display_name": "Python 3",
   "language": "python",
   "name": "python3"
  },
  "language_info": {
   "codemirror_mode": {
    "name": "ipython",
    "version": 3
   },
   "file_extension": ".py",
   "mimetype": "text/x-python",
   "name": "python",
   "nbconvert_exporter": "python",
   "pygments_lexer": "ipython3",
   "version": "3.7.6"
  }
 },
 "nbformat": 4,
 "nbformat_minor": 4
}
